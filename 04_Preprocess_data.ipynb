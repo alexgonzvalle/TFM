{
 "cells": [
  {
   "metadata": {},
   "cell_type": "markdown",
   "source": "# Preprocesar los datos",
   "id": "21e1873bd99743c8"
  },
  {
   "metadata": {
    "ExecuteTime": {
     "end_time": "2024-07-10T12:04:17.805510Z",
     "start_time": "2024-07-10T12:04:17.802523Z"
    }
   },
   "cell_type": "code",
   "source": [
    "import xarray as xr\n",
    "import pandas as pd"
   ],
   "id": "43224307669f8caf",
   "outputs": [],
   "execution_count": 3
  },
  {
   "metadata": {},
   "cell_type": "markdown",
   "source": "### Fechas",
   "id": "4aa0c74e79bd59fd"
  },
  {
   "metadata": {
    "ExecuteTime": {
     "end_time": "2024-07-10T12:06:46.623156Z",
     "start_time": "2024-07-10T12:06:46.617641Z"
    }
   },
   "cell_type": "code",
   "source": [
    "def preprocess_dates(boya, copernicus, gow):\n",
    "    # Establecer el rango de fechas común\n",
    "    time_min = max(boya.time.min(), copernicus.time.min(), gow.time.min())\n",
    "    time_max = min(boya.time.max(), copernicus.time.max(), gow.time.max())\n",
    "    \n",
    "    boya = boya.sel(time=slice(time_min, time_max))\n",
    "    copernicus = copernicus.sel(time=slice(time_min, time_max))\n",
    "    gow = gow.sel(time=slice(time_min, time_max))\n",
    "    \n",
    "    # Como los datos tiene huecos, los quitamos\n",
    "    boya_not_null = boya['hs'].notnull()\n",
    "    copernicus = copernicus.where(boya_not_null, drop=True)\n",
    "    gow = gow.where(boya_not_null, drop=True)\n",
    "    \n",
    "    copernicus_not_null = copernicus['VHM0'].notnull()\n",
    "    boya = boya.where(copernicus_not_null, drop=True)\n",
    "    gow = gow.where(copernicus_not_null, drop=True)\n",
    "    \n",
    "    gow_not_null = gow['hs'].notnull()\n",
    "    boya = boya.where(gow_not_null, drop=True)\n",
    "    copernicus = copernicus.where(gow_not_null, drop=True)\n",
    "    \n",
    "    return boya, copernicus, gow"
   ],
   "id": "f16583d7bd8e2aaf",
   "outputs": [],
   "execution_count": 4
  },
  {
   "metadata": {
    "ExecuteTime": {
     "end_time": "2024-07-10T12:28:22.694565Z",
     "start_time": "2024-07-10T12:13:42.561805Z"
    }
   },
   "cell_type": "code",
   "source": [
    "df_boyas = pd.read_csv('boyas.csv')\n",
    "for nombre in df_boyas.Nombre:\n",
    "    print(nombre)\n",
    "    boya = xr.open_dataset(f'data/raw/boyas/{nombre}_Ext.nc')\n",
    "    copernicus = xr.open_dataset(f'data/raw/historico/IBI_REANALYSIS_WAV_005_006_{nombre}.nc')\n",
    "    gow = xr.open_dataset(f'data/raw/historico/GOW_CFS_{nombre}.nc')\n",
    "\n",
    "    boya, copernicus, gow = preprocess_dates(boya, copernicus, gow)\n",
    "    (len(boya.time), len(copernicus.time), len(gow.time))\n",
    "    \n",
    "    # Seleccionar varibables de interes\n",
    "    boya = boya[['hs', 'tp', 'dir']]\n",
    "    copernicus = copernicus[['VHM0', 'VTPK', 'VMDR']]\n",
    "    \n",
    "    # Pasar fp a tp y Seleccionar varibables de interes\n",
    "    gow['tp'] = 1 / gow['fp']\n",
    "    gow = gow[['hs', 'tp', 'dir']]\n",
    "       \n",
    "    boya.to_netcdf(f'data/processed/boya_{nombre}_Ext.nc', )\n",
    "    copernicus.to_netcdf(f'data/processed/IBI_REANALYSIS_WAV_005_006_{nombre}.nc')\n",
    "    gow.to_netcdf(f'data/processed/GOW_CFS_{nombre}.nc')"
   ],
   "id": "a857ca9363730175",
   "outputs": [
    {
     "name": "stdout",
     "output_type": "stream",
     "text": [
      "Bilbao-Vizcaya\n",
      "Cabo_de_Pennas\n",
      "Estaca_de_Bares\n",
      "Villano-Sisargas\n",
      "Cabo_Silleiro\n",
      "Golfo_de_Cadiz\n",
      "Alboran\n",
      "Cabo_de_Gata\n",
      "Cabo_de_Palos\n",
      "Valencia\n",
      "Tarragona\n",
      "Cabo_Begur\n",
      "Dragonera\n",
      "Mahon\n",
      "Gran_Canaria\n",
      "Tenerife\n"
     ]
    }
   ],
   "execution_count": 10
  }
 ],
 "metadata": {
  "kernelspec": {
   "display_name": "Python 3",
   "language": "python",
   "name": "python3"
  },
  "language_info": {
   "codemirror_mode": {
    "name": "ipython",
    "version": 2
   },
   "file_extension": ".py",
   "mimetype": "text/x-python",
   "name": "python",
   "nbconvert_exporter": "python",
   "pygments_lexer": "ipython2",
   "version": "2.7.6"
  }
 },
 "nbformat": 4,
 "nbformat_minor": 5
}
