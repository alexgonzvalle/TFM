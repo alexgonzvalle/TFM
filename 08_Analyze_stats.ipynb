{
 "cells": [
  {
   "cell_type": "code",
   "id": "initial_id",
   "metadata": {
    "collapsed": true,
    "ExecuteTime": {
     "end_time": "2024-09-09T08:01:34.362852Z",
     "start_time": "2024-09-09T08:01:34.359631Z"
    }
   },
   "source": [
    "import pandas as pd\n",
    "import numpy as np\n",
    "pd.options.display.float_format = '{:.2f}'.format"
   ],
   "outputs": [],
   "execution_count": 26
  },
  {
   "metadata": {
    "ExecuteTime": {
     "end_time": "2024-09-09T08:09:23.591451Z",
     "start_time": "2024-09-09T08:09:23.587264Z"
    }
   },
   "cell_type": "code",
   "source": [
    "df_res = pd.read_csv('res_raw.csv')\n",
    "\n",
    "models = df_res['Modelo'].unique()\n",
    "n_models = len(models)"
   ],
   "id": "6e0a797a7e952ec4",
   "outputs": [],
   "execution_count": 38
  },
  {
   "metadata": {
    "ExecuteTime": {
     "end_time": "2024-09-09T08:09:25.572027Z",
     "start_time": "2024-09-09T08:09:25.558271Z"
    }
   },
   "cell_type": "code",
   "source": [
    "bias_gow = np.array([df_res[df_res['Modelo'] == model]['bias_gow'] for model in models])\n",
    "bias_cop = np.array([df_res[df_res['Modelo'] == model]['bias_cop'] for model in models])\n",
    "rmse_gow = np.array([df_res[df_res['Modelo'] == model]['rmse_gow'] for model in models])\n",
    "rmse_cop = np.array([df_res[df_res['Modelo'] == model]['rmse_cop'] for model in models])\n",
    "p_gow = np.array([df_res[df_res['Modelo'] == model]['pearson_gow'] for model in models])\n",
    "p_cop = np.array([df_res[df_res['Modelo'] == model]['pearson_cop'] for model in models])\n",
    "si_gow = np.array([df_res[df_res['Modelo'] == model]['si_gow'] for model in models])\n",
    "si_cop = np.array([df_res[df_res['Modelo'] == model]['si_cop'] for model in models])"
   ],
   "id": "705d04e77911c748",
   "outputs": [],
   "execution_count": 39
  },
  {
   "metadata": {
    "ExecuteTime": {
     "end_time": "2024-09-09T08:09:17.888403Z",
     "start_time": "2024-09-09T08:09:17.883782Z"
    }
   },
   "cell_type": "code",
   "source": "bias_gow.T",
   "id": "77acd5f17baad520",
   "outputs": [
    {
     "data": {
      "text/plain": [
       "array([[-0.08938559,  0.0213152 ,  0.03089876,  0.07625981, -0.0108293 ,\n",
       "         0.03106692],\n",
       "       [-0.31402948, -0.05454797,  0.00054837, -0.03787713, -0.05479422,\n",
       "         0.01503391],\n",
       "       [ 0.06599839, -0.01031965,  0.0268898 , -0.05928524, -0.01210735,\n",
       "         0.03597519],\n",
       "       [ 0.10084054,  0.06706872,  0.1242499 ,  0.10361052, -0.01892312,\n",
       "         0.12893012],\n",
       "       [-0.01728524,  0.09096445,  0.12324714,  0.14234431,  0.01015554,\n",
       "         0.13105005],\n",
       "       [-0.08745448, -0.16640304, -0.01903207,  0.01260067, -0.01304859,\n",
       "         0.00278076],\n",
       "       [-0.13860333, -0.06197715, -0.02966373,  0.022425  , -0.04172361,\n",
       "        -0.02926881],\n",
       "       [-0.0876856 , -0.065241  ,  0.03486457,  0.04037978, -0.01988199,\n",
       "         0.05142097],\n",
       "       [-0.33922121, -0.15762609, -0.02519155,  0.06539406, -0.0130802 ,\n",
       "         0.06831158],\n",
       "       [-0.18074653, -0.09782589,  0.00685319,  0.02970003, -0.01488862,\n",
       "         0.03882635],\n",
       "       [-0.2399118 ,  0.19350055,  0.20364621,  0.24396024,  0.02622387,\n",
       "         0.23540511],\n",
       "       [-0.23401636, -0.04700695,  0.03302464,  0.07465403, -0.02096414,\n",
       "         0.06245861],\n",
       "       [-0.12653974,  0.01657326,  0.04369383,  0.0801387 , -0.02229588,\n",
       "         0.05247233],\n",
       "       [-0.00145421, -0.03006465,  0.05500113,  0.07411769, -0.0262635 ,\n",
       "         0.06383819],\n",
       "       [-0.18748437, -0.11264947,  0.0102733 ,  0.06231357, -0.00492951,\n",
       "         0.03947758]])"
      ]
     },
     "execution_count": 37,
     "metadata": {},
     "output_type": "execute_result"
    }
   ],
   "execution_count": 37
  },
  {
   "metadata": {
    "ExecuteTime": {
     "end_time": "2024-09-09T08:04:50.973526Z",
     "start_time": "2024-09-09T08:04:50.969522Z"
    }
   },
   "cell_type": "code",
   "source": [
    "print((si_gow.mean(axis=1)+si_cop.mean(axis=1))/2)\n",
    "print((si_gow.std(axis=1)+si_cop.std(axis=1))/2)"
   ],
   "id": "e1d75b00608793dd",
   "outputs": [
    {
     "name": "stdout",
     "output_type": "stream",
     "text": [
      "[0.33978456 0.27446846 0.24831587 0.24129483 0.22540949 0.23219543]\n",
      "[0.1593252  0.09924194 0.08001621 0.07040424 0.06384257 0.06814608]\n"
     ]
    }
   ],
   "execution_count": 36
  }
 ],
 "metadata": {
  "kernelspec": {
   "display_name": "Python 3",
   "language": "python",
   "name": "python3"
  },
  "language_info": {
   "codemirror_mode": {
    "name": "ipython",
    "version": 2
   },
   "file_extension": ".py",
   "mimetype": "text/x-python",
   "name": "python",
   "nbconvert_exporter": "python",
   "pygments_lexer": "ipython2",
   "version": "2.7.6"
  }
 },
 "nbformat": 4,
 "nbformat_minor": 5
}
