{
 "cells": [
  {
   "cell_type": "code",
   "id": "initial_id",
   "metadata": {
    "collapsed": true,
    "ExecuteTime": {
     "end_time": "2024-08-29T11:36:27.724474Z",
     "start_time": "2024-08-29T11:36:27.721495Z"
    }
   },
   "source": [
    "import pandas as pd\n",
    "import numpy as np\n",
    "pd.options.display.float_format = '{:.3f}'.format"
   ],
   "outputs": [],
   "execution_count": 16
  },
  {
   "metadata": {
    "ExecuteTime": {
     "end_time": "2024-08-29T09:41:15.351294Z",
     "start_time": "2024-08-29T09:41:15.346136Z"
    }
   },
   "cell_type": "code",
   "source": [
    "df_res = pd.read_csv('res.csv')\n",
    "\n",
    "models = df_res['Modelo'].unique()\n",
    "n_models = len(models)"
   ],
   "id": "6e0a797a7e952ec4",
   "outputs": [],
   "execution_count": 2
  },
  {
   "metadata": {
    "ExecuteTime": {
     "end_time": "2024-08-29T09:41:20.892441Z",
     "start_time": "2024-08-29T09:41:20.878567Z"
    }
   },
   "cell_type": "code",
   "source": [
    "bias_gow = np.array([df_res[df_res['Modelo'] == model]['bias_gow'] for model in models])\n",
    "bias_cop = np.array([df_res[df_res['Modelo'] == model]['bias_cop'] for model in models])\n",
    "rmse_gow = np.array([df_res[df_res['Modelo'] == model]['rmse_gow'] for model in models])\n",
    "rmse_cop = np.array([df_res[df_res['Modelo'] == model]['rmse_cop'] for model in models])\n",
    "p_gow = np.array([df_res[df_res['Modelo'] == model]['pearson_gow'] for model in models])\n",
    "p_cop = np.array([df_res[df_res['Modelo'] == model]['pearson_cop'] for model in models])\n",
    "si_gow = np.array([df_res[df_res['Modelo'] == model]['si_gow'] for model in models])\n",
    "si_cop = np.array([df_res[df_res['Modelo'] == model]['si_cop'] for model in models])"
   ],
   "id": "705d04e77911c748",
   "outputs": [],
   "execution_count": 3
  },
  {
   "metadata": {
    "ExecuteTime": {
     "end_time": "2024-08-29T11:40:33.679938Z",
     "start_time": "2024-08-29T11:40:33.675942Z"
    }
   },
   "cell_type": "code",
   "source": "bias_gow.T",
   "id": "e1d75b00608793dd",
   "outputs": [
    {
     "data": {
      "text/plain": [
       "array([[-0.08938559,  0.19656709,  0.05328708,  0.07625981, -0.16691268,\n",
       "         0.03126092],\n",
       "       [-0.31402948,  0.19547697,  0.04656675, -0.03787713, -0.19159414,\n",
       "         0.01585068],\n",
       "       [ 0.06599839,  0.2130547 ,  0.04942177, -0.05928524, -0.2033767 ,\n",
       "         0.0212107 ],\n",
       "       [ 0.10084054,  0.3371965 ,  0.1599333 ,  0.10361052, -0.22194215,\n",
       "         0.12376856],\n",
       "       [-0.01728524,  0.28028782,  0.1551297 ,  0.14234431, -0.22691733,\n",
       "         0.13037525],\n",
       "       [-0.08745448,  0.0239295 ,  0.01414365,  0.01260067, -0.06606704,\n",
       "         0.00445631],\n",
       "       [-0.13860333,  0.1619815 , -0.01481362,  0.022425  , -0.02051292,\n",
       "        -0.01909669],\n",
       "       [-0.0876856 ,  0.09442789,  0.05438658,  0.04037978,  0.02278423,\n",
       "         0.05373153],\n",
       "       [-0.33922121,  0.10348066,  0.06597403,  0.06539406,  0.0470942 ,\n",
       "         0.06838461],\n",
       "       [-0.18074653,  0.07332449,  0.04574363,  0.02970003,  0.02052822,\n",
       "         0.03809378],\n",
       "       [-0.2399118 ,  0.41501335,  0.25728068,  0.24396024,  0.04794107,\n",
       "         0.23402789],\n",
       "       [-0.23401636,  0.15189419,  0.07862838,  0.07465403,  0.00594164,\n",
       "         0.06145713],\n",
       "       [-0.12653974,  0.17023284,  0.06937715,  0.0801387 , -0.10123958,\n",
       "         0.05315976],\n",
       "       [-0.00145421,  0.27404028,  0.08979318,  0.07411769, -0.09565048,\n",
       "         0.06373077],\n",
       "       [-0.18748437,  0.34332929,  0.05188956,  0.06231357,  0.04857842,\n",
       "         0.04007864]])"
      ]
     },
     "execution_count": 19,
     "metadata": {},
     "output_type": "execute_result"
    }
   ],
   "execution_count": 19
  }
 ],
 "metadata": {
  "kernelspec": {
   "display_name": "Python 3",
   "language": "python",
   "name": "python3"
  },
  "language_info": {
   "codemirror_mode": {
    "name": "ipython",
    "version": 2
   },
   "file_extension": ".py",
   "mimetype": "text/x-python",
   "name": "python",
   "nbconvert_exporter": "python",
   "pygments_lexer": "ipython2",
   "version": "2.7.6"
  }
 },
 "nbformat": 4,
 "nbformat_minor": 5
}
