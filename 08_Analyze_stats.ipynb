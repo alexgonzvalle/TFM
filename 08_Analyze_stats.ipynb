{
 "cells": [
  {
   "cell_type": "code",
   "id": "initial_id",
   "metadata": {
    "collapsed": true,
    "ExecuteTime": {
     "end_time": "2024-09-06T12:20:40.076022Z",
     "start_time": "2024-09-06T12:20:40.073303Z"
    }
   },
   "source": [
    "import pandas as pd\n",
    "import numpy as np\n",
    "pd.options.display.float_format = '{:.2f}'.format"
   ],
   "outputs": [],
   "execution_count": 26
  },
  {
   "metadata": {
    "ExecuteTime": {
     "end_time": "2024-09-06T12:12:32.113864Z",
     "start_time": "2024-09-06T12:12:32.108511Z"
    }
   },
   "cell_type": "code",
   "source": [
    "df_res = pd.read_csv('res.csv')\n",
    "\n",
    "models = df_res['Modelo'].unique()\n",
    "n_models = len(models)"
   ],
   "id": "6e0a797a7e952ec4",
   "outputs": [],
   "execution_count": 2
  },
  {
   "metadata": {
    "ExecuteTime": {
     "end_time": "2024-09-06T12:12:34.040988Z",
     "start_time": "2024-09-06T12:12:34.027544Z"
    }
   },
   "cell_type": "code",
   "source": [
    "bias_gow = np.array([df_res[df_res['Modelo'] == model]['bias_gow'] for model in models])\n",
    "bias_cop = np.array([df_res[df_res['Modelo'] == model]['bias_cop'] for model in models])\n",
    "rmse_gow = np.array([df_res[df_res['Modelo'] == model]['rmse_gow'] for model in models])\n",
    "rmse_cop = np.array([df_res[df_res['Modelo'] == model]['rmse_cop'] for model in models])\n",
    "p_gow = np.array([df_res[df_res['Modelo'] == model]['pearson_gow'] for model in models])\n",
    "p_cop = np.array([df_res[df_res['Modelo'] == model]['pearson_cop'] for model in models])\n",
    "si_gow = np.array([df_res[df_res['Modelo'] == model]['si_gow'] for model in models])\n",
    "si_cop = np.array([df_res[df_res['Modelo'] == model]['si_cop'] for model in models])"
   ],
   "id": "705d04e77911c748",
   "outputs": [],
   "execution_count": 3
  },
  {
   "metadata": {
    "ExecuteTime": {
     "end_time": "2024-09-06T12:22:30.193030Z",
     "start_time": "2024-09-06T12:22:30.189130Z"
    }
   },
   "cell_type": "code",
   "source": "si_gow.T",
   "id": "77acd5f17baad520",
   "outputs": [
    {
     "data": {
      "text/plain": [
       "array([[0.18430248, 0.22196336, 0.20249719, 0.19282475, 0.21201317,\n",
       "        0.18409223],\n",
       "       [0.25033693, 0.22332256, 0.20382223, 0.19754763, 0.23203931,\n",
       "        0.18502105],\n",
       "       [0.15437431, 0.17904178, 0.16018808, 0.16790268, 0.18592912,\n",
       "        0.157818  ],\n",
       "       [0.16212507, 0.21016065, 0.17715536, 0.16200134, 0.17845436,\n",
       "        0.16045115],\n",
       "       [0.15123196, 0.21029714, 0.18809073, 0.1675487 , 0.1879108 ,\n",
       "        0.1655975 ],\n",
       "       [0.22391637, 0.23603935, 0.22737602, 0.19476919, 0.20130336,\n",
       "        0.19348064],\n",
       "       [0.32416757, 0.33803179, 0.30370401, 0.27250688, 0.28982666,\n",
       "        0.28036172],\n",
       "       [0.26106712, 0.30428559, 0.29811659, 0.29231393, 0.26410422,\n",
       "        0.27356908],\n",
       "       [0.55026984, 0.49824217, 0.47423378, 0.34627638, 0.32734737,\n",
       "        0.34167096],\n",
       "       [0.34313923, 0.34065055, 0.33501742, 0.27644736, 0.26058533,\n",
       "        0.26476994],\n",
       "       [0.34975029, 0.46860796, 0.40868532, 0.33422888, 0.24017005,\n",
       "        0.34807371],\n",
       "       [0.37513233, 0.35394441, 0.33687666, 0.26410699, 0.26367599,\n",
       "        0.26332595],\n",
       "       [0.25620669, 0.27330211, 0.25161801, 0.22796212, 0.25366825,\n",
       "        0.22462513],\n",
       "       [0.14571859, 0.23380215, 0.18212923, 0.15778389, 0.159361  ,\n",
       "        0.14985752],\n",
       "       [0.33145386, 0.5196138 , 0.35210958, 0.24619081, 0.23434383,\n",
       "        0.23680732]])"
      ]
     },
     "execution_count": 32,
     "metadata": {},
     "output_type": "execute_result"
    }
   ],
   "execution_count": 32
  },
  {
   "metadata": {
    "ExecuteTime": {
     "end_time": "2024-09-06T12:17:31.149210Z",
     "start_time": "2024-09-06T12:17:31.145158Z"
    }
   },
   "cell_type": "code",
   "source": [
    "print((si_gow.mean(axis=1)+si_cop.mean(axis=1))/2)\n",
    "print((si_gow.std(axis=1)+si_cop.std(axis=1))/2)"
   ],
   "id": "e1d75b00608793dd",
   "outputs": [
    {
     "data": {
      "text/plain": [
       "array([[-0.08938559,  0.19656709,  0.05328708,  0.07625981, -0.17713855,\n",
       "         0.03106692],\n",
       "       [-0.31402948,  0.19547697,  0.04656675, -0.03787713, -0.21691383,\n",
       "         0.01503391],\n",
       "       [ 0.06599839,  0.2130547 ,  0.04942177, -0.05928524, -0.20298617,\n",
       "         0.03597519],\n",
       "       [ 0.10084054,  0.3371965 ,  0.1599333 ,  0.10361052, -0.22498056,\n",
       "         0.12892808],\n",
       "       [-0.01728524,  0.28028782,  0.1551297 ,  0.14234431, -0.26397941,\n",
       "         0.13105005],\n",
       "       [-0.08745448,  0.0239295 ,  0.01414365,  0.01260067, -0.07833123,\n",
       "         0.00278076],\n",
       "       [-0.13860333,  0.1619815 , -0.01481362,  0.022425  , -0.04098864,\n",
       "        -0.02926435],\n",
       "       [-0.0876856 ,  0.09442789,  0.05438658,  0.04037978,  0.00465169,\n",
       "         0.05142064],\n",
       "       [-0.33922121,  0.10348066,  0.06597403,  0.06539406,  0.02155324,\n",
       "         0.06831158],\n",
       "       [-0.18074653,  0.07332449,  0.04574363,  0.02970003,  0.00264249,\n",
       "         0.03882635],\n",
       "       [-0.2399118 ,  0.41501335,  0.25728068,  0.24396024,  0.01723415,\n",
       "         0.23540511],\n",
       "       [-0.23401636,  0.15189419,  0.07862838,  0.07465403, -0.01318297,\n",
       "         0.06245861],\n",
       "       [-0.12653974,  0.17023284,  0.06937715,  0.0801387 , -0.11406947,\n",
       "         0.05252247],\n",
       "       [-0.00145421,  0.27404028,  0.08979318,  0.07411769, -0.10420323,\n",
       "         0.06383819],\n",
       "       [-0.18748437,  0.34332929,  0.05188956,  0.06231357,  0.03178454,\n",
       "         0.03947758]])"
      ]
     },
     "execution_count": 22,
     "metadata": {},
     "output_type": "execute_result"
    }
   ],
   "execution_count": 22
  }
 ],
 "metadata": {
  "kernelspec": {
   "display_name": "Python 3",
   "language": "python",
   "name": "python3"
  },
  "language_info": {
   "codemirror_mode": {
    "name": "ipython",
    "version": 2
   },
   "file_extension": ".py",
   "mimetype": "text/x-python",
   "name": "python",
   "nbconvert_exporter": "python",
   "pygments_lexer": "ipython2",
   "version": "2.7.6"
  }
 },
 "nbformat": 4,
 "nbformat_minor": 5
}
