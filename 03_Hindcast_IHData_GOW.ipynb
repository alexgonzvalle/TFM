{
 "cells": [
  {
   "metadata": {},
   "cell_type": "markdown",
   "source": [
    "# Obtener información y datos historicos de IHData GOW \n",
    "### Para ello, se utilizará el OpenDAP de IHData"
   ],
   "id": "4c5476578d6adbe5"
  },
  {
   "metadata": {
    "ExecuteTime": {
     "end_time": "2024-08-26T22:10:27.179314Z",
     "start_time": "2024-08-26T22:10:25.340102Z"
    }
   },
   "cell_type": "code",
   "source": [
    "import os\n",
    "import glob\n",
    "import xarray as xr\n",
    "import pandas as pd\n",
    "import folium\n",
    "import matplotlib.pyplot as plt\n",
    "import datetime as dt\n",
    "from tqdm.notebook import tqdm"
   ],
   "id": "3e5d92c434c33103",
   "outputs": [],
   "execution_count": 1
  },
  {
   "metadata": {},
   "cell_type": "markdown",
   "source": "#### Buscar nodos mas cercanos a las boyas",
   "id": "5e186677c90f7abf"
  },
  {
   "metadata": {
    "ExecuteTime": {
     "end_time": "2024-08-26T22:10:27.197438Z",
     "start_time": "2024-08-26T22:10:27.179817Z"
    }
   },
   "cell_type": "code",
   "source": [
    "df_boyas = pd.read_csv('boyas.csv')\n",
    "df_boyas"
   ],
   "id": "e0bd3edf0191cd81",
   "outputs": [
    {
     "data": {
      "text/plain": [
       "              Nombre  Longitud  Latitud  Cadencia  Codigo  Profundidad  \\\n",
       "0     Bilbao-Vizcaya     -3.04    43.64        60    2136          580   \n",
       "1     Cabo_de_Pennas     -6.18    43.75        60    2242          615   \n",
       "2    Estaca_de_Bares     -7.68    44.12        60    2244         1800   \n",
       "3   Villano-Sisargas     -9.21    43.80        60    2246          386   \n",
       "4      Cabo_Silleiro     -9.43    42.12        60    2248          600   \n",
       "5     Golfo_de_Cadiz     -6.96    36.49        60    2342          450   \n",
       "6       Cabo_de_Gata     -2.34    36.57        60    2548          536   \n",
       "7      Cabo_de_Palos     -0.31    37.65        60    2610          230   \n",
       "8           Valencia     -0.20    39.51        60    2630          260   \n",
       "9          Tarragona      1.47    40.69        60    2720          688   \n",
       "10        Cabo_Begur      3.65    41.90        60    2798         1200   \n",
       "11         Dragonera      2.10    39.56        60    2820          141   \n",
       "12             Mahon      4.42    39.71        60    2838          300   \n",
       "13      Gran_Canaria    -15.80    28.20        60    2442          780   \n",
       "14          Tenerife    -16.61    28.00        60    2446          710   \n",
       "\n",
       "   InicioMedida UltimaMedida           TipoSensor    Modelo ConjuntoDatos  \n",
       "0    07-11-1990   10-07-2024  Direccional Met-Oce  SeaWatch        REDEXT  \n",
       "1    09-06-1998   10-07-2024  Direccional Met-Oce  SeaWatch        REDEXT  \n",
       "2    19-07-1996   10-07-2024  Direccional Met-Oce  SeaWatch        REDEXT  \n",
       "3    12-05-1998   10-07-2024  Direccional Met-Oce  SeaWatch        REDEXT  \n",
       "4    06-07-1998   23-04-2020  Direccional Met-Oce  SeaWatch        REDEXT  \n",
       "5    27-08-1996   10-07-2024  Direccional Met-Oce  SeaWatch        REDEXT  \n",
       "6    27-03-1998   10-07-2024  Direccional Met-Oce  SeaWatch        REDEXT  \n",
       "7    18-07-2006   03-04-2020  Direccional Met-Oce  SeaWatch        REDEXT  \n",
       "8    15-09-2005   15-06-2020  Direccional Met-Oce  SeaWatch        REDEXT  \n",
       "9    20-08-2004   10-07-2024  Direccional Met-Oce  SeaWatch        REDEXT  \n",
       "10   27-03-2001   10-07-2024  Direccional Met-Oce  SeaWatch        REDEXT  \n",
       "11   29-11-2006   10-07-2024  Direccional Met-Oce  SeaWatch        REDEXT  \n",
       "12   29-04-1993   10-07-2024  Direccional Met-Oce  SeaWatch        REDEXT  \n",
       "13   20-06-1997   25-06-2020  Direccional Met-Oce  SeaWatch        REDEXT  \n",
       "14   01-04-1998   25-06-2020  Direccional Met-Oce  SeaWatch        REDEXT  "
      ],
      "text/html": [
       "<div>\n",
       "<style scoped>\n",
       "    .dataframe tbody tr th:only-of-type {\n",
       "        vertical-align: middle;\n",
       "    }\n",
       "\n",
       "    .dataframe tbody tr th {\n",
       "        vertical-align: top;\n",
       "    }\n",
       "\n",
       "    .dataframe thead th {\n",
       "        text-align: right;\n",
       "    }\n",
       "</style>\n",
       "<table border=\"1\" class=\"dataframe\">\n",
       "  <thead>\n",
       "    <tr style=\"text-align: right;\">\n",
       "      <th></th>\n",
       "      <th>Nombre</th>\n",
       "      <th>Longitud</th>\n",
       "      <th>Latitud</th>\n",
       "      <th>Cadencia</th>\n",
       "      <th>Codigo</th>\n",
       "      <th>Profundidad</th>\n",
       "      <th>InicioMedida</th>\n",
       "      <th>UltimaMedida</th>\n",
       "      <th>TipoSensor</th>\n",
       "      <th>Modelo</th>\n",
       "      <th>ConjuntoDatos</th>\n",
       "    </tr>\n",
       "  </thead>\n",
       "  <tbody>\n",
       "    <tr>\n",
       "      <th>0</th>\n",
       "      <td>Bilbao-Vizcaya</td>\n",
       "      <td>-3.04</td>\n",
       "      <td>43.64</td>\n",
       "      <td>60</td>\n",
       "      <td>2136</td>\n",
       "      <td>580</td>\n",
       "      <td>07-11-1990</td>\n",
       "      <td>10-07-2024</td>\n",
       "      <td>Direccional Met-Oce</td>\n",
       "      <td>SeaWatch</td>\n",
       "      <td>REDEXT</td>\n",
       "    </tr>\n",
       "    <tr>\n",
       "      <th>1</th>\n",
       "      <td>Cabo_de_Pennas</td>\n",
       "      <td>-6.18</td>\n",
       "      <td>43.75</td>\n",
       "      <td>60</td>\n",
       "      <td>2242</td>\n",
       "      <td>615</td>\n",
       "      <td>09-06-1998</td>\n",
       "      <td>10-07-2024</td>\n",
       "      <td>Direccional Met-Oce</td>\n",
       "      <td>SeaWatch</td>\n",
       "      <td>REDEXT</td>\n",
       "    </tr>\n",
       "    <tr>\n",
       "      <th>2</th>\n",
       "      <td>Estaca_de_Bares</td>\n",
       "      <td>-7.68</td>\n",
       "      <td>44.12</td>\n",
       "      <td>60</td>\n",
       "      <td>2244</td>\n",
       "      <td>1800</td>\n",
       "      <td>19-07-1996</td>\n",
       "      <td>10-07-2024</td>\n",
       "      <td>Direccional Met-Oce</td>\n",
       "      <td>SeaWatch</td>\n",
       "      <td>REDEXT</td>\n",
       "    </tr>\n",
       "    <tr>\n",
       "      <th>3</th>\n",
       "      <td>Villano-Sisargas</td>\n",
       "      <td>-9.21</td>\n",
       "      <td>43.80</td>\n",
       "      <td>60</td>\n",
       "      <td>2246</td>\n",
       "      <td>386</td>\n",
       "      <td>12-05-1998</td>\n",
       "      <td>10-07-2024</td>\n",
       "      <td>Direccional Met-Oce</td>\n",
       "      <td>SeaWatch</td>\n",
       "      <td>REDEXT</td>\n",
       "    </tr>\n",
       "    <tr>\n",
       "      <th>4</th>\n",
       "      <td>Cabo_Silleiro</td>\n",
       "      <td>-9.43</td>\n",
       "      <td>42.12</td>\n",
       "      <td>60</td>\n",
       "      <td>2248</td>\n",
       "      <td>600</td>\n",
       "      <td>06-07-1998</td>\n",
       "      <td>23-04-2020</td>\n",
       "      <td>Direccional Met-Oce</td>\n",
       "      <td>SeaWatch</td>\n",
       "      <td>REDEXT</td>\n",
       "    </tr>\n",
       "    <tr>\n",
       "      <th>5</th>\n",
       "      <td>Golfo_de_Cadiz</td>\n",
       "      <td>-6.96</td>\n",
       "      <td>36.49</td>\n",
       "      <td>60</td>\n",
       "      <td>2342</td>\n",
       "      <td>450</td>\n",
       "      <td>27-08-1996</td>\n",
       "      <td>10-07-2024</td>\n",
       "      <td>Direccional Met-Oce</td>\n",
       "      <td>SeaWatch</td>\n",
       "      <td>REDEXT</td>\n",
       "    </tr>\n",
       "    <tr>\n",
       "      <th>6</th>\n",
       "      <td>Cabo_de_Gata</td>\n",
       "      <td>-2.34</td>\n",
       "      <td>36.57</td>\n",
       "      <td>60</td>\n",
       "      <td>2548</td>\n",
       "      <td>536</td>\n",
       "      <td>27-03-1998</td>\n",
       "      <td>10-07-2024</td>\n",
       "      <td>Direccional Met-Oce</td>\n",
       "      <td>SeaWatch</td>\n",
       "      <td>REDEXT</td>\n",
       "    </tr>\n",
       "    <tr>\n",
       "      <th>7</th>\n",
       "      <td>Cabo_de_Palos</td>\n",
       "      <td>-0.31</td>\n",
       "      <td>37.65</td>\n",
       "      <td>60</td>\n",
       "      <td>2610</td>\n",
       "      <td>230</td>\n",
       "      <td>18-07-2006</td>\n",
       "      <td>03-04-2020</td>\n",
       "      <td>Direccional Met-Oce</td>\n",
       "      <td>SeaWatch</td>\n",
       "      <td>REDEXT</td>\n",
       "    </tr>\n",
       "    <tr>\n",
       "      <th>8</th>\n",
       "      <td>Valencia</td>\n",
       "      <td>-0.20</td>\n",
       "      <td>39.51</td>\n",
       "      <td>60</td>\n",
       "      <td>2630</td>\n",
       "      <td>260</td>\n",
       "      <td>15-09-2005</td>\n",
       "      <td>15-06-2020</td>\n",
       "      <td>Direccional Met-Oce</td>\n",
       "      <td>SeaWatch</td>\n",
       "      <td>REDEXT</td>\n",
       "    </tr>\n",
       "    <tr>\n",
       "      <th>9</th>\n",
       "      <td>Tarragona</td>\n",
       "      <td>1.47</td>\n",
       "      <td>40.69</td>\n",
       "      <td>60</td>\n",
       "      <td>2720</td>\n",
       "      <td>688</td>\n",
       "      <td>20-08-2004</td>\n",
       "      <td>10-07-2024</td>\n",
       "      <td>Direccional Met-Oce</td>\n",
       "      <td>SeaWatch</td>\n",
       "      <td>REDEXT</td>\n",
       "    </tr>\n",
       "    <tr>\n",
       "      <th>10</th>\n",
       "      <td>Cabo_Begur</td>\n",
       "      <td>3.65</td>\n",
       "      <td>41.90</td>\n",
       "      <td>60</td>\n",
       "      <td>2798</td>\n",
       "      <td>1200</td>\n",
       "      <td>27-03-2001</td>\n",
       "      <td>10-07-2024</td>\n",
       "      <td>Direccional Met-Oce</td>\n",
       "      <td>SeaWatch</td>\n",
       "      <td>REDEXT</td>\n",
       "    </tr>\n",
       "    <tr>\n",
       "      <th>11</th>\n",
       "      <td>Dragonera</td>\n",
       "      <td>2.10</td>\n",
       "      <td>39.56</td>\n",
       "      <td>60</td>\n",
       "      <td>2820</td>\n",
       "      <td>141</td>\n",
       "      <td>29-11-2006</td>\n",
       "      <td>10-07-2024</td>\n",
       "      <td>Direccional Met-Oce</td>\n",
       "      <td>SeaWatch</td>\n",
       "      <td>REDEXT</td>\n",
       "    </tr>\n",
       "    <tr>\n",
       "      <th>12</th>\n",
       "      <td>Mahon</td>\n",
       "      <td>4.42</td>\n",
       "      <td>39.71</td>\n",
       "      <td>60</td>\n",
       "      <td>2838</td>\n",
       "      <td>300</td>\n",
       "      <td>29-04-1993</td>\n",
       "      <td>10-07-2024</td>\n",
       "      <td>Direccional Met-Oce</td>\n",
       "      <td>SeaWatch</td>\n",
       "      <td>REDEXT</td>\n",
       "    </tr>\n",
       "    <tr>\n",
       "      <th>13</th>\n",
       "      <td>Gran_Canaria</td>\n",
       "      <td>-15.80</td>\n",
       "      <td>28.20</td>\n",
       "      <td>60</td>\n",
       "      <td>2442</td>\n",
       "      <td>780</td>\n",
       "      <td>20-06-1997</td>\n",
       "      <td>25-06-2020</td>\n",
       "      <td>Direccional Met-Oce</td>\n",
       "      <td>SeaWatch</td>\n",
       "      <td>REDEXT</td>\n",
       "    </tr>\n",
       "    <tr>\n",
       "      <th>14</th>\n",
       "      <td>Tenerife</td>\n",
       "      <td>-16.61</td>\n",
       "      <td>28.00</td>\n",
       "      <td>60</td>\n",
       "      <td>2446</td>\n",
       "      <td>710</td>\n",
       "      <td>01-04-1998</td>\n",
       "      <td>25-06-2020</td>\n",
       "      <td>Direccional Met-Oce</td>\n",
       "      <td>SeaWatch</td>\n",
       "      <td>REDEXT</td>\n",
       "    </tr>\n",
       "  </tbody>\n",
       "</table>\n",
       "</div>"
      ]
     },
     "execution_count": 2,
     "metadata": {},
     "output_type": "execute_result"
    }
   ],
   "execution_count": 2
  },
  {
   "metadata": {
    "ExecuteTime": {
     "end_time": "2024-08-26T22:10:27.201059Z",
     "start_time": "2024-08-26T22:10:27.197438Z"
    }
   },
   "cell_type": "code",
   "source": [
    "def sort_by_year_month(file_names):\n",
    "    # Función para extraer año y mes de cada nombre\n",
    "    def get_year_month(file_name):\n",
    "        parts = file_name.split('_')[-1]  # Obtenemos la parte después del primer '_'\n",
    "        year, month = parts.split('.')[0], parts.split('.')[1]\n",
    "        return dt.datetime.strptime(f\"{year}-{month}\", \"%Y-%m\")\n",
    "\n",
    "    # Ordenar usando la función get_year_month como clave\n",
    "    return sorted(file_names, key=get_year_month)"
   ],
   "id": "5e0869ae9eb23e35",
   "outputs": [],
   "execution_count": 3
  },
  {
   "metadata": {
    "ExecuteTime": {
     "end_time": "2024-08-26T22:31:36.485940Z",
     "start_time": "2024-08-26T22:10:27.202056Z"
    }
   },
   "cell_type": "code",
   "source": [
    "path = r'\\\\193.144.213.171\\ihcantabria\\GOW\\GOW_CFS\\Europa'\n",
    "files = glob.glob(os.path.join(path, 'GOW_CFS_Europa_*.nc'))\n",
    "files = [f for f in files if 'Mask' not in f]\n",
    "files = sort_by_year_month(files)\n",
    "for nombre, lat, lon in zip(df_boyas.Nombre[:-2], df_boyas.Latitud[:-2], df_boyas.Longitud[:-2]):\n",
    "    print(nombre, lat, lon)\n",
    "    data_res = xr.Dataset()\n",
    "    for i, f in tqdm(enumerate(files), total=len(files)):\n",
    "        data = xr.open_dataset(os.path.join(path, f))\n",
    "        data_c = data.sel(latitude=lat, longitude=lon, method=\"nearest\")     \n",
    "        if i == 0:\n",
    "            data_res = data_c\n",
    "        else:\n",
    "            data_res = xr.concat([data_res, data_c], dim=\"time\")\n",
    "    data_res.to_netcdf(f'data/raw/historico/GOW_CFS_{nombre}.nc')"
   ],
   "id": "276371d6315208cc",
   "outputs": [
    {
     "name": "stdout",
     "output_type": "stream",
     "text": [
      "Bilbao-Vizcaya 43.64 -3.04\n"
     ]
    },
    {
     "data": {
      "text/plain": [
       "  0%|          | 0/483 [00:00<?, ?it/s]"
      ],
      "application/vnd.jupyter.widget-view+json": {
       "version_major": 2,
       "version_minor": 0,
       "model_id": "6bfebad686484cd098ee6ddb05da34bb"
      }
     },
     "metadata": {},
     "output_type": "display_data"
    },
    {
     "name": "stdout",
     "output_type": "stream",
     "text": [
      "Cabo_de_Pennas 43.75 -6.18\n"
     ]
    },
    {
     "data": {
      "text/plain": [
       "  0%|          | 0/483 [00:00<?, ?it/s]"
      ],
      "application/vnd.jupyter.widget-view+json": {
       "version_major": 2,
       "version_minor": 0,
       "model_id": "0baee30515344344af3d6ca565904ad9"
      }
     },
     "metadata": {},
     "output_type": "display_data"
    },
    {
     "name": "stdout",
     "output_type": "stream",
     "text": [
      "Estaca_de_Bares 44.12 -7.68\n"
     ]
    },
    {
     "data": {
      "text/plain": [
       "  0%|          | 0/483 [00:00<?, ?it/s]"
      ],
      "application/vnd.jupyter.widget-view+json": {
       "version_major": 2,
       "version_minor": 0,
       "model_id": "721acb2495ae4117ac97e06c4a66ecaa"
      }
     },
     "metadata": {},
     "output_type": "display_data"
    },
    {
     "name": "stdout",
     "output_type": "stream",
     "text": [
      "Villano-Sisargas 43.8 -9.21\n"
     ]
    },
    {
     "data": {
      "text/plain": [
       "  0%|          | 0/483 [00:00<?, ?it/s]"
      ],
      "application/vnd.jupyter.widget-view+json": {
       "version_major": 2,
       "version_minor": 0,
       "model_id": "93bcdd85965c4b47baa815b848073a93"
      }
     },
     "metadata": {},
     "output_type": "display_data"
    },
    {
     "name": "stdout",
     "output_type": "stream",
     "text": [
      "Cabo_Silleiro 42.12 -9.43\n"
     ]
    },
    {
     "data": {
      "text/plain": [
       "  0%|          | 0/483 [00:00<?, ?it/s]"
      ],
      "application/vnd.jupyter.widget-view+json": {
       "version_major": 2,
       "version_minor": 0,
       "model_id": "e61a938eb30a4e1fbb988ffdbc657811"
      }
     },
     "metadata": {},
     "output_type": "display_data"
    },
    {
     "name": "stdout",
     "output_type": "stream",
     "text": [
      "Golfo_de_Cadiz 36.49 -6.96\n"
     ]
    },
    {
     "data": {
      "text/plain": [
       "  0%|          | 0/483 [00:00<?, ?it/s]"
      ],
      "application/vnd.jupyter.widget-view+json": {
       "version_major": 2,
       "version_minor": 0,
       "model_id": "a531e2ec2a954742aa9e8e1f990ac460"
      }
     },
     "metadata": {},
     "output_type": "display_data"
    },
    {
     "name": "stdout",
     "output_type": "stream",
     "text": [
      "Cabo_de_Gata 36.57 -2.34\n"
     ]
    },
    {
     "data": {
      "text/plain": [
       "  0%|          | 0/483 [00:00<?, ?it/s]"
      ],
      "application/vnd.jupyter.widget-view+json": {
       "version_major": 2,
       "version_minor": 0,
       "model_id": "b7b6736de9784075a4f3d526c3232006"
      }
     },
     "metadata": {},
     "output_type": "display_data"
    },
    {
     "name": "stdout",
     "output_type": "stream",
     "text": [
      "Cabo_de_Palos 37.65 -0.31\n"
     ]
    },
    {
     "data": {
      "text/plain": [
       "  0%|          | 0/483 [00:00<?, ?it/s]"
      ],
      "application/vnd.jupyter.widget-view+json": {
       "version_major": 2,
       "version_minor": 0,
       "model_id": "eb1c7d05de524a46b077b35e146e14c4"
      }
     },
     "metadata": {},
     "output_type": "display_data"
    },
    {
     "name": "stdout",
     "output_type": "stream",
     "text": [
      "Valencia 39.51 -0.2\n"
     ]
    },
    {
     "data": {
      "text/plain": [
       "  0%|          | 0/483 [00:00<?, ?it/s]"
      ],
      "application/vnd.jupyter.widget-view+json": {
       "version_major": 2,
       "version_minor": 0,
       "model_id": "a5a58c2836c546549cdeabc3b839aa11"
      }
     },
     "metadata": {},
     "output_type": "display_data"
    },
    {
     "name": "stdout",
     "output_type": "stream",
     "text": [
      "Tarragona 40.69 1.47\n"
     ]
    },
    {
     "data": {
      "text/plain": [
       "  0%|          | 0/483 [00:00<?, ?it/s]"
      ],
      "application/vnd.jupyter.widget-view+json": {
       "version_major": 2,
       "version_minor": 0,
       "model_id": "c485dc3a568a460b811fa6f014ab68e1"
      }
     },
     "metadata": {},
     "output_type": "display_data"
    },
    {
     "ename": "KeyboardInterrupt",
     "evalue": "",
     "output_type": "error",
     "traceback": [
      "\u001B[1;31m---------------------------------------------------------------------------\u001B[0m",
      "\u001B[1;31mKeyError\u001B[0m                                  Traceback (most recent call last)",
      "File \u001B[1;32mD:\\Development\\repos\\TFM\\.venv\\Lib\\site-packages\\xarray\\backends\\file_manager.py:211\u001B[0m, in \u001B[0;36mCachingFileManager._acquire_with_cache_info\u001B[1;34m(self, needs_lock)\u001B[0m\n\u001B[0;32m    210\u001B[0m \u001B[38;5;28;01mtry\u001B[39;00m:\n\u001B[1;32m--> 211\u001B[0m     file \u001B[38;5;241m=\u001B[39m \u001B[38;5;28;43mself\u001B[39;49m\u001B[38;5;241;43m.\u001B[39;49m\u001B[43m_cache\u001B[49m\u001B[43m[\u001B[49m\u001B[38;5;28;43mself\u001B[39;49m\u001B[38;5;241;43m.\u001B[39;49m\u001B[43m_key\u001B[49m\u001B[43m]\u001B[49m\n\u001B[0;32m    212\u001B[0m \u001B[38;5;28;01mexcept\u001B[39;00m \u001B[38;5;167;01mKeyError\u001B[39;00m:\n",
      "File \u001B[1;32mD:\\Development\\repos\\TFM\\.venv\\Lib\\site-packages\\xarray\\backends\\lru_cache.py:56\u001B[0m, in \u001B[0;36mLRUCache.__getitem__\u001B[1;34m(self, key)\u001B[0m\n\u001B[0;32m     55\u001B[0m \u001B[38;5;28;01mwith\u001B[39;00m \u001B[38;5;28mself\u001B[39m\u001B[38;5;241m.\u001B[39m_lock:\n\u001B[1;32m---> 56\u001B[0m     value \u001B[38;5;241m=\u001B[39m \u001B[38;5;28;43mself\u001B[39;49m\u001B[38;5;241;43m.\u001B[39;49m\u001B[43m_cache\u001B[49m\u001B[43m[\u001B[49m\u001B[43mkey\u001B[49m\u001B[43m]\u001B[49m\n\u001B[0;32m     57\u001B[0m     \u001B[38;5;28mself\u001B[39m\u001B[38;5;241m.\u001B[39m_cache\u001B[38;5;241m.\u001B[39mmove_to_end(key)\n",
      "\u001B[1;31mKeyError\u001B[0m: [<class 'netCDF4._netCDF4.Dataset'>, ('\\\\\\\\193.144.213.171\\\\ihcantabria\\\\GOW\\\\GOW_CFS\\\\Europa\\\\GOW_CFS_Europa_2010.10.nc',), 'r', (('clobber', True), ('diskless', False), ('format', 'NETCDF4'), ('persist', False)), '1cf6bb6d-3411-48fa-af87-158ce96128c9']",
      "\nDuring handling of the above exception, another exception occurred:\n",
      "\u001B[1;31mKeyboardInterrupt\u001B[0m                         Traceback (most recent call last)",
      "Cell \u001B[1;32mIn[4], line 9\u001B[0m\n\u001B[0;32m      7\u001B[0m data_res \u001B[38;5;241m=\u001B[39m xr\u001B[38;5;241m.\u001B[39mDataset()\n\u001B[0;32m      8\u001B[0m \u001B[38;5;28;01mfor\u001B[39;00m i, f \u001B[38;5;129;01min\u001B[39;00m tqdm(\u001B[38;5;28menumerate\u001B[39m(files), total\u001B[38;5;241m=\u001B[39m\u001B[38;5;28mlen\u001B[39m(files)):\n\u001B[1;32m----> 9\u001B[0m     data \u001B[38;5;241m=\u001B[39m \u001B[43mxr\u001B[49m\u001B[38;5;241;43m.\u001B[39;49m\u001B[43mopen_dataset\u001B[49m\u001B[43m(\u001B[49m\u001B[43mos\u001B[49m\u001B[38;5;241;43m.\u001B[39;49m\u001B[43mpath\u001B[49m\u001B[38;5;241;43m.\u001B[39;49m\u001B[43mjoin\u001B[49m\u001B[43m(\u001B[49m\u001B[43mpath\u001B[49m\u001B[43m,\u001B[49m\u001B[43m \u001B[49m\u001B[43mf\u001B[49m\u001B[43m)\u001B[49m\u001B[43m)\u001B[49m\n\u001B[0;32m     10\u001B[0m     data_c \u001B[38;5;241m=\u001B[39m data\u001B[38;5;241m.\u001B[39msel(latitude\u001B[38;5;241m=\u001B[39mlat, longitude\u001B[38;5;241m=\u001B[39mlon, method\u001B[38;5;241m=\u001B[39m\u001B[38;5;124m\"\u001B[39m\u001B[38;5;124mnearest\u001B[39m\u001B[38;5;124m\"\u001B[39m)     \n\u001B[0;32m     11\u001B[0m     \u001B[38;5;28;01mif\u001B[39;00m i \u001B[38;5;241m==\u001B[39m \u001B[38;5;241m0\u001B[39m:\n",
      "File \u001B[1;32mD:\\Development\\repos\\TFM\\.venv\\Lib\\site-packages\\xarray\\backends\\api.py:571\u001B[0m, in \u001B[0;36mopen_dataset\u001B[1;34m(filename_or_obj, engine, chunks, cache, decode_cf, mask_and_scale, decode_times, decode_timedelta, use_cftime, concat_characters, decode_coords, drop_variables, inline_array, chunked_array_type, from_array_kwargs, backend_kwargs, **kwargs)\u001B[0m\n\u001B[0;32m    559\u001B[0m decoders \u001B[38;5;241m=\u001B[39m _resolve_decoders_kwargs(\n\u001B[0;32m    560\u001B[0m     decode_cf,\n\u001B[0;32m    561\u001B[0m     open_backend_dataset_parameters\u001B[38;5;241m=\u001B[39mbackend\u001B[38;5;241m.\u001B[39mopen_dataset_parameters,\n\u001B[1;32m   (...)\u001B[0m\n\u001B[0;32m    567\u001B[0m     decode_coords\u001B[38;5;241m=\u001B[39mdecode_coords,\n\u001B[0;32m    568\u001B[0m )\n\u001B[0;32m    570\u001B[0m overwrite_encoded_chunks \u001B[38;5;241m=\u001B[39m kwargs\u001B[38;5;241m.\u001B[39mpop(\u001B[38;5;124m\"\u001B[39m\u001B[38;5;124moverwrite_encoded_chunks\u001B[39m\u001B[38;5;124m\"\u001B[39m, \u001B[38;5;28;01mNone\u001B[39;00m)\n\u001B[1;32m--> 571\u001B[0m backend_ds \u001B[38;5;241m=\u001B[39m \u001B[43mbackend\u001B[49m\u001B[38;5;241;43m.\u001B[39;49m\u001B[43mopen_dataset\u001B[49m\u001B[43m(\u001B[49m\n\u001B[0;32m    572\u001B[0m \u001B[43m    \u001B[49m\u001B[43mfilename_or_obj\u001B[49m\u001B[43m,\u001B[49m\n\u001B[0;32m    573\u001B[0m \u001B[43m    \u001B[49m\u001B[43mdrop_variables\u001B[49m\u001B[38;5;241;43m=\u001B[39;49m\u001B[43mdrop_variables\u001B[49m\u001B[43m,\u001B[49m\n\u001B[0;32m    574\u001B[0m \u001B[43m    \u001B[49m\u001B[38;5;241;43m*\u001B[39;49m\u001B[38;5;241;43m*\u001B[39;49m\u001B[43mdecoders\u001B[49m\u001B[43m,\u001B[49m\n\u001B[0;32m    575\u001B[0m \u001B[43m    \u001B[49m\u001B[38;5;241;43m*\u001B[39;49m\u001B[38;5;241;43m*\u001B[39;49m\u001B[43mkwargs\u001B[49m\u001B[43m,\u001B[49m\n\u001B[0;32m    576\u001B[0m \u001B[43m\u001B[49m\u001B[43m)\u001B[49m\n\u001B[0;32m    577\u001B[0m ds \u001B[38;5;241m=\u001B[39m _dataset_from_backend_dataset(\n\u001B[0;32m    578\u001B[0m     backend_ds,\n\u001B[0;32m    579\u001B[0m     filename_or_obj,\n\u001B[1;32m   (...)\u001B[0m\n\u001B[0;32m    589\u001B[0m     \u001B[38;5;241m*\u001B[39m\u001B[38;5;241m*\u001B[39mkwargs,\n\u001B[0;32m    590\u001B[0m )\n\u001B[0;32m    591\u001B[0m \u001B[38;5;28;01mreturn\u001B[39;00m ds\n",
      "File \u001B[1;32mD:\\Development\\repos\\TFM\\.venv\\Lib\\site-packages\\xarray\\backends\\netCDF4_.py:645\u001B[0m, in \u001B[0;36mNetCDF4BackendEntrypoint.open_dataset\u001B[1;34m(self, filename_or_obj, mask_and_scale, decode_times, concat_characters, decode_coords, drop_variables, use_cftime, decode_timedelta, group, mode, format, clobber, diskless, persist, lock, autoclose)\u001B[0m\n\u001B[0;32m    624\u001B[0m \u001B[38;5;28;01mdef\u001B[39;00m \u001B[38;5;21mopen_dataset\u001B[39m(  \u001B[38;5;66;03m# type: ignore[override]  # allow LSP violation, not supporting **kwargs\u001B[39;00m\n\u001B[0;32m    625\u001B[0m     \u001B[38;5;28mself\u001B[39m,\n\u001B[0;32m    626\u001B[0m     filename_or_obj: \u001B[38;5;28mstr\u001B[39m \u001B[38;5;241m|\u001B[39m os\u001B[38;5;241m.\u001B[39mPathLike[Any] \u001B[38;5;241m|\u001B[39m BufferedIOBase \u001B[38;5;241m|\u001B[39m AbstractDataStore,\n\u001B[1;32m   (...)\u001B[0m\n\u001B[0;32m    642\u001B[0m     autoclose\u001B[38;5;241m=\u001B[39m\u001B[38;5;28;01mFalse\u001B[39;00m,\n\u001B[0;32m    643\u001B[0m ) \u001B[38;5;241m-\u001B[39m\u001B[38;5;241m>\u001B[39m Dataset:\n\u001B[0;32m    644\u001B[0m     filename_or_obj \u001B[38;5;241m=\u001B[39m _normalize_path(filename_or_obj)\n\u001B[1;32m--> 645\u001B[0m     store \u001B[38;5;241m=\u001B[39m \u001B[43mNetCDF4DataStore\u001B[49m\u001B[38;5;241;43m.\u001B[39;49m\u001B[43mopen\u001B[49m\u001B[43m(\u001B[49m\n\u001B[0;32m    646\u001B[0m \u001B[43m        \u001B[49m\u001B[43mfilename_or_obj\u001B[49m\u001B[43m,\u001B[49m\n\u001B[0;32m    647\u001B[0m \u001B[43m        \u001B[49m\u001B[43mmode\u001B[49m\u001B[38;5;241;43m=\u001B[39;49m\u001B[43mmode\u001B[49m\u001B[43m,\u001B[49m\n\u001B[0;32m    648\u001B[0m \u001B[43m        \u001B[49m\u001B[38;5;28;43mformat\u001B[39;49m\u001B[38;5;241;43m=\u001B[39;49m\u001B[38;5;28;43mformat\u001B[39;49m\u001B[43m,\u001B[49m\n\u001B[0;32m    649\u001B[0m \u001B[43m        \u001B[49m\u001B[43mgroup\u001B[49m\u001B[38;5;241;43m=\u001B[39;49m\u001B[43mgroup\u001B[49m\u001B[43m,\u001B[49m\n\u001B[0;32m    650\u001B[0m \u001B[43m        \u001B[49m\u001B[43mclobber\u001B[49m\u001B[38;5;241;43m=\u001B[39;49m\u001B[43mclobber\u001B[49m\u001B[43m,\u001B[49m\n\u001B[0;32m    651\u001B[0m \u001B[43m        \u001B[49m\u001B[43mdiskless\u001B[49m\u001B[38;5;241;43m=\u001B[39;49m\u001B[43mdiskless\u001B[49m\u001B[43m,\u001B[49m\n\u001B[0;32m    652\u001B[0m \u001B[43m        \u001B[49m\u001B[43mpersist\u001B[49m\u001B[38;5;241;43m=\u001B[39;49m\u001B[43mpersist\u001B[49m\u001B[43m,\u001B[49m\n\u001B[0;32m    653\u001B[0m \u001B[43m        \u001B[49m\u001B[43mlock\u001B[49m\u001B[38;5;241;43m=\u001B[39;49m\u001B[43mlock\u001B[49m\u001B[43m,\u001B[49m\n\u001B[0;32m    654\u001B[0m \u001B[43m        \u001B[49m\u001B[43mautoclose\u001B[49m\u001B[38;5;241;43m=\u001B[39;49m\u001B[43mautoclose\u001B[49m\u001B[43m,\u001B[49m\n\u001B[0;32m    655\u001B[0m \u001B[43m    \u001B[49m\u001B[43m)\u001B[49m\n\u001B[0;32m    657\u001B[0m     store_entrypoint \u001B[38;5;241m=\u001B[39m StoreBackendEntrypoint()\n\u001B[0;32m    658\u001B[0m     \u001B[38;5;28;01mwith\u001B[39;00m close_on_error(store):\n",
      "File \u001B[1;32mD:\\Development\\repos\\TFM\\.venv\\Lib\\site-packages\\xarray\\backends\\netCDF4_.py:408\u001B[0m, in \u001B[0;36mNetCDF4DataStore.open\u001B[1;34m(cls, filename, mode, format, group, clobber, diskless, persist, lock, lock_maker, autoclose)\u001B[0m\n\u001B[0;32m    402\u001B[0m kwargs \u001B[38;5;241m=\u001B[39m \u001B[38;5;28mdict\u001B[39m(\n\u001B[0;32m    403\u001B[0m     clobber\u001B[38;5;241m=\u001B[39mclobber, diskless\u001B[38;5;241m=\u001B[39mdiskless, persist\u001B[38;5;241m=\u001B[39mpersist, \u001B[38;5;28mformat\u001B[39m\u001B[38;5;241m=\u001B[39m\u001B[38;5;28mformat\u001B[39m\n\u001B[0;32m    404\u001B[0m )\n\u001B[0;32m    405\u001B[0m manager \u001B[38;5;241m=\u001B[39m CachingFileManager(\n\u001B[0;32m    406\u001B[0m     netCDF4\u001B[38;5;241m.\u001B[39mDataset, filename, mode\u001B[38;5;241m=\u001B[39mmode, kwargs\u001B[38;5;241m=\u001B[39mkwargs\n\u001B[0;32m    407\u001B[0m )\n\u001B[1;32m--> 408\u001B[0m \u001B[38;5;28;01mreturn\u001B[39;00m \u001B[38;5;28;43mcls\u001B[39;49m\u001B[43m(\u001B[49m\u001B[43mmanager\u001B[49m\u001B[43m,\u001B[49m\u001B[43m \u001B[49m\u001B[43mgroup\u001B[49m\u001B[38;5;241;43m=\u001B[39;49m\u001B[43mgroup\u001B[49m\u001B[43m,\u001B[49m\u001B[43m \u001B[49m\u001B[43mmode\u001B[49m\u001B[38;5;241;43m=\u001B[39;49m\u001B[43mmode\u001B[49m\u001B[43m,\u001B[49m\u001B[43m \u001B[49m\u001B[43mlock\u001B[49m\u001B[38;5;241;43m=\u001B[39;49m\u001B[43mlock\u001B[49m\u001B[43m,\u001B[49m\u001B[43m \u001B[49m\u001B[43mautoclose\u001B[49m\u001B[38;5;241;43m=\u001B[39;49m\u001B[43mautoclose\u001B[49m\u001B[43m)\u001B[49m\n",
      "File \u001B[1;32mD:\\Development\\repos\\TFM\\.venv\\Lib\\site-packages\\xarray\\backends\\netCDF4_.py:355\u001B[0m, in \u001B[0;36mNetCDF4DataStore.__init__\u001B[1;34m(self, manager, group, mode, lock, autoclose)\u001B[0m\n\u001B[0;32m    353\u001B[0m \u001B[38;5;28mself\u001B[39m\u001B[38;5;241m.\u001B[39m_group \u001B[38;5;241m=\u001B[39m group\n\u001B[0;32m    354\u001B[0m \u001B[38;5;28mself\u001B[39m\u001B[38;5;241m.\u001B[39m_mode \u001B[38;5;241m=\u001B[39m mode\n\u001B[1;32m--> 355\u001B[0m \u001B[38;5;28mself\u001B[39m\u001B[38;5;241m.\u001B[39mformat \u001B[38;5;241m=\u001B[39m \u001B[38;5;28;43mself\u001B[39;49m\u001B[38;5;241;43m.\u001B[39;49m\u001B[43mds\u001B[49m\u001B[38;5;241m.\u001B[39mdata_model\n\u001B[0;32m    356\u001B[0m \u001B[38;5;28mself\u001B[39m\u001B[38;5;241m.\u001B[39m_filename \u001B[38;5;241m=\u001B[39m \u001B[38;5;28mself\u001B[39m\u001B[38;5;241m.\u001B[39mds\u001B[38;5;241m.\u001B[39mfilepath()\n\u001B[0;32m    357\u001B[0m \u001B[38;5;28mself\u001B[39m\u001B[38;5;241m.\u001B[39mis_remote \u001B[38;5;241m=\u001B[39m is_remote_uri(\u001B[38;5;28mself\u001B[39m\u001B[38;5;241m.\u001B[39m_filename)\n",
      "File \u001B[1;32mD:\\Development\\repos\\TFM\\.venv\\Lib\\site-packages\\xarray\\backends\\netCDF4_.py:417\u001B[0m, in \u001B[0;36mNetCDF4DataStore.ds\u001B[1;34m(self)\u001B[0m\n\u001B[0;32m    415\u001B[0m \u001B[38;5;129m@property\u001B[39m\n\u001B[0;32m    416\u001B[0m \u001B[38;5;28;01mdef\u001B[39;00m \u001B[38;5;21mds\u001B[39m(\u001B[38;5;28mself\u001B[39m):\n\u001B[1;32m--> 417\u001B[0m     \u001B[38;5;28;01mreturn\u001B[39;00m \u001B[38;5;28;43mself\u001B[39;49m\u001B[38;5;241;43m.\u001B[39;49m\u001B[43m_acquire\u001B[49m\u001B[43m(\u001B[49m\u001B[43m)\u001B[49m\n",
      "File \u001B[1;32mD:\\Development\\repos\\TFM\\.venv\\Lib\\site-packages\\xarray\\backends\\netCDF4_.py:411\u001B[0m, in \u001B[0;36mNetCDF4DataStore._acquire\u001B[1;34m(self, needs_lock)\u001B[0m\n\u001B[0;32m    410\u001B[0m \u001B[38;5;28;01mdef\u001B[39;00m \u001B[38;5;21m_acquire\u001B[39m(\u001B[38;5;28mself\u001B[39m, needs_lock\u001B[38;5;241m=\u001B[39m\u001B[38;5;28;01mTrue\u001B[39;00m):\n\u001B[1;32m--> 411\u001B[0m \u001B[43m    \u001B[49m\u001B[38;5;28;43;01mwith\u001B[39;49;00m\u001B[43m \u001B[49m\u001B[38;5;28;43mself\u001B[39;49m\u001B[38;5;241;43m.\u001B[39;49m\u001B[43m_manager\u001B[49m\u001B[38;5;241;43m.\u001B[39;49m\u001B[43macquire_context\u001B[49m\u001B[43m(\u001B[49m\u001B[43mneeds_lock\u001B[49m\u001B[43m)\u001B[49m\u001B[43m \u001B[49m\u001B[38;5;28;43;01mas\u001B[39;49;00m\u001B[43m \u001B[49m\u001B[43mroot\u001B[49m\u001B[43m:\u001B[49m\n\u001B[0;32m    412\u001B[0m \u001B[43m        \u001B[49m\u001B[43mds\u001B[49m\u001B[43m \u001B[49m\u001B[38;5;241;43m=\u001B[39;49m\u001B[43m \u001B[49m\u001B[43m_nc4_require_group\u001B[49m\u001B[43m(\u001B[49m\u001B[43mroot\u001B[49m\u001B[43m,\u001B[49m\u001B[43m \u001B[49m\u001B[38;5;28;43mself\u001B[39;49m\u001B[38;5;241;43m.\u001B[39;49m\u001B[43m_group\u001B[49m\u001B[43m,\u001B[49m\u001B[43m \u001B[49m\u001B[38;5;28;43mself\u001B[39;49m\u001B[38;5;241;43m.\u001B[39;49m\u001B[43m_mode\u001B[49m\u001B[43m)\u001B[49m\n\u001B[0;32m    413\u001B[0m     \u001B[38;5;28;01mreturn\u001B[39;00m ds\n",
      "File \u001B[1;32m~\\AppData\\Local\\Programs\\Python\\Python311\\Lib\\contextlib.py:137\u001B[0m, in \u001B[0;36m_GeneratorContextManager.__enter__\u001B[1;34m(self)\u001B[0m\n\u001B[0;32m    135\u001B[0m \u001B[38;5;28;01mdel\u001B[39;00m \u001B[38;5;28mself\u001B[39m\u001B[38;5;241m.\u001B[39margs, \u001B[38;5;28mself\u001B[39m\u001B[38;5;241m.\u001B[39mkwds, \u001B[38;5;28mself\u001B[39m\u001B[38;5;241m.\u001B[39mfunc\n\u001B[0;32m    136\u001B[0m \u001B[38;5;28;01mtry\u001B[39;00m:\n\u001B[1;32m--> 137\u001B[0m     \u001B[38;5;28;01mreturn\u001B[39;00m \u001B[38;5;28mnext\u001B[39m(\u001B[38;5;28mself\u001B[39m\u001B[38;5;241m.\u001B[39mgen)\n\u001B[0;32m    138\u001B[0m \u001B[38;5;28;01mexcept\u001B[39;00m \u001B[38;5;167;01mStopIteration\u001B[39;00m:\n\u001B[0;32m    139\u001B[0m     \u001B[38;5;28;01mraise\u001B[39;00m \u001B[38;5;167;01mRuntimeError\u001B[39;00m(\u001B[38;5;124m\"\u001B[39m\u001B[38;5;124mgenerator didn\u001B[39m\u001B[38;5;124m'\u001B[39m\u001B[38;5;124mt yield\u001B[39m\u001B[38;5;124m\"\u001B[39m) \u001B[38;5;28;01mfrom\u001B[39;00m \u001B[38;5;28;01mNone\u001B[39;00m\n",
      "File \u001B[1;32mD:\\Development\\repos\\TFM\\.venv\\Lib\\site-packages\\xarray\\backends\\file_manager.py:199\u001B[0m, in \u001B[0;36mCachingFileManager.acquire_context\u001B[1;34m(self, needs_lock)\u001B[0m\n\u001B[0;32m    196\u001B[0m \u001B[38;5;129m@contextlib\u001B[39m\u001B[38;5;241m.\u001B[39mcontextmanager\n\u001B[0;32m    197\u001B[0m \u001B[38;5;28;01mdef\u001B[39;00m \u001B[38;5;21macquire_context\u001B[39m(\u001B[38;5;28mself\u001B[39m, needs_lock\u001B[38;5;241m=\u001B[39m\u001B[38;5;28;01mTrue\u001B[39;00m):\n\u001B[0;32m    198\u001B[0m \u001B[38;5;250m    \u001B[39m\u001B[38;5;124;03m\"\"\"Context manager for acquiring a file.\"\"\"\u001B[39;00m\n\u001B[1;32m--> 199\u001B[0m     file, cached \u001B[38;5;241m=\u001B[39m \u001B[38;5;28;43mself\u001B[39;49m\u001B[38;5;241;43m.\u001B[39;49m\u001B[43m_acquire_with_cache_info\u001B[49m\u001B[43m(\u001B[49m\u001B[43mneeds_lock\u001B[49m\u001B[43m)\u001B[49m\n\u001B[0;32m    200\u001B[0m     \u001B[38;5;28;01mtry\u001B[39;00m:\n\u001B[0;32m    201\u001B[0m         \u001B[38;5;28;01myield\u001B[39;00m file\n",
      "File \u001B[1;32mD:\\Development\\repos\\TFM\\.venv\\Lib\\site-packages\\xarray\\backends\\file_manager.py:217\u001B[0m, in \u001B[0;36mCachingFileManager._acquire_with_cache_info\u001B[1;34m(self, needs_lock)\u001B[0m\n\u001B[0;32m    215\u001B[0m     kwargs \u001B[38;5;241m=\u001B[39m kwargs\u001B[38;5;241m.\u001B[39mcopy()\n\u001B[0;32m    216\u001B[0m     kwargs[\u001B[38;5;124m\"\u001B[39m\u001B[38;5;124mmode\u001B[39m\u001B[38;5;124m\"\u001B[39m] \u001B[38;5;241m=\u001B[39m \u001B[38;5;28mself\u001B[39m\u001B[38;5;241m.\u001B[39m_mode\n\u001B[1;32m--> 217\u001B[0m file \u001B[38;5;241m=\u001B[39m \u001B[38;5;28;43mself\u001B[39;49m\u001B[38;5;241;43m.\u001B[39;49m\u001B[43m_opener\u001B[49m\u001B[43m(\u001B[49m\u001B[38;5;241;43m*\u001B[39;49m\u001B[38;5;28;43mself\u001B[39;49m\u001B[38;5;241;43m.\u001B[39;49m\u001B[43m_args\u001B[49m\u001B[43m,\u001B[49m\u001B[43m \u001B[49m\u001B[38;5;241;43m*\u001B[39;49m\u001B[38;5;241;43m*\u001B[39;49m\u001B[43mkwargs\u001B[49m\u001B[43m)\u001B[49m\n\u001B[0;32m    218\u001B[0m \u001B[38;5;28;01mif\u001B[39;00m \u001B[38;5;28mself\u001B[39m\u001B[38;5;241m.\u001B[39m_mode \u001B[38;5;241m==\u001B[39m \u001B[38;5;124m\"\u001B[39m\u001B[38;5;124mw\u001B[39m\u001B[38;5;124m\"\u001B[39m:\n\u001B[0;32m    219\u001B[0m     \u001B[38;5;66;03m# ensure file doesn't get overridden when opened again\u001B[39;00m\n\u001B[0;32m    220\u001B[0m     \u001B[38;5;28mself\u001B[39m\u001B[38;5;241m.\u001B[39m_mode \u001B[38;5;241m=\u001B[39m \u001B[38;5;124m\"\u001B[39m\u001B[38;5;124ma\u001B[39m\u001B[38;5;124m\"\u001B[39m\n",
      "File \u001B[1;32msrc\\\\netCDF4\\\\_netCDF4.pyx:2489\u001B[0m, in \u001B[0;36mnetCDF4._netCDF4.Dataset.__init__\u001B[1;34m()\u001B[0m\n",
      "File \u001B[1;32msrc\\\\netCDF4\\\\_netCDF4.pyx:2082\u001B[0m, in \u001B[0;36mgenexpr\u001B[1;34m()\u001B[0m\n",
      "File \u001B[1;32msrc\\\\netCDF4\\\\_netCDF4.pyx:2082\u001B[0m, in \u001B[0;36mgenexpr\u001B[1;34m()\u001B[0m\n",
      "File \u001B[1;32mD:\\Development\\repos\\TFM\\.venv\\Lib\\site-packages\\netCDF4\\utils.py:32\u001B[0m, in \u001B[0;36m_find_dim\u001B[1;34m(grp, dimname)\u001B[0m\n\u001B[0;32m     28\u001B[0m \u001B[38;5;28;01mdef\u001B[39;00m \u001B[38;5;21m_sortbylist\u001B[39m(A,B):\n\u001B[0;32m     29\u001B[0m     \u001B[38;5;66;03m# sort one list (A) using the values from another list (B)\u001B[39;00m\n\u001B[0;32m     30\u001B[0m     \u001B[38;5;28;01mreturn\u001B[39;00m [A[i] \u001B[38;5;28;01mfor\u001B[39;00m i \u001B[38;5;129;01min\u001B[39;00m \u001B[38;5;28msorted\u001B[39m(\u001B[38;5;28mrange\u001B[39m(\u001B[38;5;28mlen\u001B[39m(A)), key\u001B[38;5;241m=\u001B[39mB\u001B[38;5;241m.\u001B[39m\u001B[38;5;21m__getitem__\u001B[39m)]\n\u001B[1;32m---> 32\u001B[0m \u001B[38;5;28;01mdef\u001B[39;00m \u001B[38;5;21m_find_dim\u001B[39m(grp, dimname):\n\u001B[0;32m     33\u001B[0m     \u001B[38;5;66;03m# find Dimension instance given group and name.\u001B[39;00m\n\u001B[0;32m     34\u001B[0m     \u001B[38;5;66;03m# look in current group, and parents.\u001B[39;00m\n\u001B[0;32m     35\u001B[0m     group \u001B[38;5;241m=\u001B[39m grp\n\u001B[0;32m     36\u001B[0m     dim \u001B[38;5;241m=\u001B[39m \u001B[38;5;28;01mNone\u001B[39;00m\n",
      "\u001B[1;31mKeyboardInterrupt\u001B[0m: "
     ]
    }
   ],
   "execution_count": 4
  },
  {
   "metadata": {
    "ExecuteTime": {
     "end_time": "2024-08-26T22:31:36.486943Z",
     "start_time": "2024-08-26T22:31:36.486943Z"
    }
   },
   "cell_type": "code",
   "source": [
    "path = r'\\\\193.144.213.171\\ihcantabria\\GOW\\GOW_CFS\\Canarias'\n",
    "files = glob.glob(os.path.join(path, 'GOW_CFS_Canarias_*.nc'))\n",
    "files = [f for f in files if 'Mask' not in f]\n",
    "files = sort_by_year_month(files)\n",
    "for nombre, lat, lon in zip(df_boyas.Nombre[-2:], df_boyas.Latitud[-2:], df_boyas.Longitud[-2:]):\n",
    "    print(nombre, lat, lon)\n",
    "    data_res = xr.Dataset()\n",
    "    for i, f in tqdm(enumerate(files), total=len(files)):\n",
    "        data = xr.open_dataset(os.path.join(path, f))\n",
    "        data_c = data.sel(latitude=lat, longitude=lon, method=\"nearest\")     \n",
    "        if i == 0:\n",
    "            data_res = data_c\n",
    "        else:\n",
    "            data_res = xr.concat([data_res, data_c], dim=\"time\")\n",
    "    data_res.to_netcdf(f'data/raw/historico/GOW_CFS_{nombre}.nc')"
   ],
   "id": "f5c9d178bfe5c163",
   "outputs": [],
   "execution_count": null
  },
  {
   "metadata": {
    "ExecuteTime": {
     "end_time": "2024-08-26T22:31:44.910830Z",
     "start_time": "2024-08-26T22:31:43.357063Z"
    }
   },
   "cell_type": "code",
   "source": [
    "df_hindcast = pd.DataFrame(columns=['Nombre', 'Longitud', 'Latitud', 'InicioMedida', 'FinMedida'])\n",
    "for nombre, lat, lon in zip(df_boyas.Nombre, df_boyas.Latitud, df_boyas.Longitud):  \n",
    "    ds = xr.open_dataset(os.path.join(f'data/raw/historico/GOW_CFS_{nombre}.nc'))\n",
    "    df_hindcast.loc[len(df_hindcast.index)] = [nombre, ds.longitude.values, ds.latitude.values, ds.time.values[0], ds.time.values[-1]]\n",
    "df_hindcast"
   ],
   "id": "b6bf428817785ceb",
   "outputs": [
    {
     "data": {
      "text/plain": [
       "              Nombre Longitud Latitud InicioMedida  \\\n",
       "0     Bilbao-Vizcaya     -3.0  43.625   1979-01-01   \n",
       "1     Cabo_de_Pennas   -6.125   43.75   1979-01-01   \n",
       "2    Estaca_de_Bares   -7.625  44.125   1979-01-01   \n",
       "3   Villano-Sisargas    -9.25   43.75   1979-01-01   \n",
       "4      Cabo_Silleiro   -9.375  42.125   1979-01-01   \n",
       "5     Golfo_de_Cadiz     -7.0    36.5   1979-01-01   \n",
       "6       Cabo_de_Gata   -2.375  36.625   1979-01-01   \n",
       "7      Cabo_de_Palos    -0.25  37.625   1979-01-01   \n",
       "8           Valencia    -0.25    39.5   1979-01-01   \n",
       "9          Tarragona      1.5   40.75   1979-01-01   \n",
       "10        Cabo_Begur    3.625  41.875   1979-01-01   \n",
       "11         Dragonera    2.125    39.5   1979-01-01   \n",
       "12             Mahon    4.375   39.75   1979-01-01   \n",
       "13      Gran_Canaria   -15.75   28.25   1979-01-01   \n",
       "14          Tenerife  -16.625    28.0   1979-01-01   \n",
       "\n",
       "                       FinMedida  \n",
       "0  2019-03-31 23:00:00.000013440  \n",
       "1  2019-03-31 23:00:00.000013440  \n",
       "2  2019-03-31 23:00:00.000013440  \n",
       "3  2019-03-31 23:00:00.000013440  \n",
       "4  2019-03-31 23:00:00.000013440  \n",
       "5  2019-03-31 23:00:00.000013440  \n",
       "6  2019-03-31 23:00:00.000013440  \n",
       "7  2019-03-31 23:00:00.000013440  \n",
       "8  2019-03-31 23:00:00.000013440  \n",
       "9  2019-03-31 23:00:00.000013440  \n",
       "10 2019-03-31 23:00:00.000013440  \n",
       "11 2019-03-31 23:00:00.000013440  \n",
       "12 2019-03-31 23:00:00.000013440  \n",
       "13 2019-03-31 23:00:00.000013440  \n",
       "14 2019-03-31 23:00:00.000013440  "
      ],
      "text/html": [
       "<div>\n",
       "<style scoped>\n",
       "    .dataframe tbody tr th:only-of-type {\n",
       "        vertical-align: middle;\n",
       "    }\n",
       "\n",
       "    .dataframe tbody tr th {\n",
       "        vertical-align: top;\n",
       "    }\n",
       "\n",
       "    .dataframe thead th {\n",
       "        text-align: right;\n",
       "    }\n",
       "</style>\n",
       "<table border=\"1\" class=\"dataframe\">\n",
       "  <thead>\n",
       "    <tr style=\"text-align: right;\">\n",
       "      <th></th>\n",
       "      <th>Nombre</th>\n",
       "      <th>Longitud</th>\n",
       "      <th>Latitud</th>\n",
       "      <th>InicioMedida</th>\n",
       "      <th>FinMedida</th>\n",
       "    </tr>\n",
       "  </thead>\n",
       "  <tbody>\n",
       "    <tr>\n",
       "      <th>0</th>\n",
       "      <td>Bilbao-Vizcaya</td>\n",
       "      <td>-3.0</td>\n",
       "      <td>43.625</td>\n",
       "      <td>1979-01-01</td>\n",
       "      <td>2019-03-31 23:00:00.000013440</td>\n",
       "    </tr>\n",
       "    <tr>\n",
       "      <th>1</th>\n",
       "      <td>Cabo_de_Pennas</td>\n",
       "      <td>-6.125</td>\n",
       "      <td>43.75</td>\n",
       "      <td>1979-01-01</td>\n",
       "      <td>2019-03-31 23:00:00.000013440</td>\n",
       "    </tr>\n",
       "    <tr>\n",
       "      <th>2</th>\n",
       "      <td>Estaca_de_Bares</td>\n",
       "      <td>-7.625</td>\n",
       "      <td>44.125</td>\n",
       "      <td>1979-01-01</td>\n",
       "      <td>2019-03-31 23:00:00.000013440</td>\n",
       "    </tr>\n",
       "    <tr>\n",
       "      <th>3</th>\n",
       "      <td>Villano-Sisargas</td>\n",
       "      <td>-9.25</td>\n",
       "      <td>43.75</td>\n",
       "      <td>1979-01-01</td>\n",
       "      <td>2019-03-31 23:00:00.000013440</td>\n",
       "    </tr>\n",
       "    <tr>\n",
       "      <th>4</th>\n",
       "      <td>Cabo_Silleiro</td>\n",
       "      <td>-9.375</td>\n",
       "      <td>42.125</td>\n",
       "      <td>1979-01-01</td>\n",
       "      <td>2019-03-31 23:00:00.000013440</td>\n",
       "    </tr>\n",
       "    <tr>\n",
       "      <th>5</th>\n",
       "      <td>Golfo_de_Cadiz</td>\n",
       "      <td>-7.0</td>\n",
       "      <td>36.5</td>\n",
       "      <td>1979-01-01</td>\n",
       "      <td>2019-03-31 23:00:00.000013440</td>\n",
       "    </tr>\n",
       "    <tr>\n",
       "      <th>6</th>\n",
       "      <td>Cabo_de_Gata</td>\n",
       "      <td>-2.375</td>\n",
       "      <td>36.625</td>\n",
       "      <td>1979-01-01</td>\n",
       "      <td>2019-03-31 23:00:00.000013440</td>\n",
       "    </tr>\n",
       "    <tr>\n",
       "      <th>7</th>\n",
       "      <td>Cabo_de_Palos</td>\n",
       "      <td>-0.25</td>\n",
       "      <td>37.625</td>\n",
       "      <td>1979-01-01</td>\n",
       "      <td>2019-03-31 23:00:00.000013440</td>\n",
       "    </tr>\n",
       "    <tr>\n",
       "      <th>8</th>\n",
       "      <td>Valencia</td>\n",
       "      <td>-0.25</td>\n",
       "      <td>39.5</td>\n",
       "      <td>1979-01-01</td>\n",
       "      <td>2019-03-31 23:00:00.000013440</td>\n",
       "    </tr>\n",
       "    <tr>\n",
       "      <th>9</th>\n",
       "      <td>Tarragona</td>\n",
       "      <td>1.5</td>\n",
       "      <td>40.75</td>\n",
       "      <td>1979-01-01</td>\n",
       "      <td>2019-03-31 23:00:00.000013440</td>\n",
       "    </tr>\n",
       "    <tr>\n",
       "      <th>10</th>\n",
       "      <td>Cabo_Begur</td>\n",
       "      <td>3.625</td>\n",
       "      <td>41.875</td>\n",
       "      <td>1979-01-01</td>\n",
       "      <td>2019-03-31 23:00:00.000013440</td>\n",
       "    </tr>\n",
       "    <tr>\n",
       "      <th>11</th>\n",
       "      <td>Dragonera</td>\n",
       "      <td>2.125</td>\n",
       "      <td>39.5</td>\n",
       "      <td>1979-01-01</td>\n",
       "      <td>2019-03-31 23:00:00.000013440</td>\n",
       "    </tr>\n",
       "    <tr>\n",
       "      <th>12</th>\n",
       "      <td>Mahon</td>\n",
       "      <td>4.375</td>\n",
       "      <td>39.75</td>\n",
       "      <td>1979-01-01</td>\n",
       "      <td>2019-03-31 23:00:00.000013440</td>\n",
       "    </tr>\n",
       "    <tr>\n",
       "      <th>13</th>\n",
       "      <td>Gran_Canaria</td>\n",
       "      <td>-15.75</td>\n",
       "      <td>28.25</td>\n",
       "      <td>1979-01-01</td>\n",
       "      <td>2019-03-31 23:00:00.000013440</td>\n",
       "    </tr>\n",
       "    <tr>\n",
       "      <th>14</th>\n",
       "      <td>Tenerife</td>\n",
       "      <td>-16.625</td>\n",
       "      <td>28.0</td>\n",
       "      <td>1979-01-01</td>\n",
       "      <td>2019-03-31 23:00:00.000013440</td>\n",
       "    </tr>\n",
       "  </tbody>\n",
       "</table>\n",
       "</div>"
      ]
     },
     "execution_count": 5,
     "metadata": {},
     "output_type": "execute_result"
    }
   ],
   "execution_count": 5
  },
  {
   "metadata": {},
   "cell_type": "code",
   "source": [
    "m = folium.Map(location=(39, -5), zoom_start=5)\n",
    "for i in range(len(df_hindcast)):\n",
    "    folium.Marker(location=[df_boyas.Latitud[i], df_boyas.Longitud[i]], icon=folium.Icon(color='black')).add_to(m)\n",
    "    \n",
    "    folium.Marker(location=[df_hindcast.Latitud[i], df_hindcast.Longitud[i]], tooltip=folium.Tooltip(df_hindcast.Nombre[i], permanent=True)).add_to(m)\n",
    "m"
   ],
   "id": "3ed494c26e97c527",
   "outputs": [],
   "execution_count": null
  },
  {
   "metadata": {},
   "cell_type": "code",
   "source": "",
   "id": "787ef586e850e5d9",
   "outputs": [],
   "execution_count": null
  },
  {
   "metadata": {},
   "cell_type": "code",
   "source": [
    "fig, ax = plt.subplots()\n",
    "for i, task in df_boyas.iterrows():   \n",
    "    start = dt.datetime.strptime('01-01-1979', '%d-%m-%Y')\n",
    "    finish = dt.datetime.strptime('31-03-2019', '%d-%m-%Y')\n",
    "    ax.barh(df_hindcast.loc[i]['Nombre'], (finish - start).days, left=start, color='blue', edgecolor='black')\n",
    "    \n",
    "    start = dt.datetime.strptime(task['InicioMedida'], '%d-%m-%Y')\n",
    "    finish = dt.datetime.strptime(task['UltimaMedida'], '%d-%m-%Y')\n",
    "    ax.barh(task['Nombre'], (finish - start).days, left=start, color='skyblue', edgecolor='black', alpha=0.8)\n",
    "ax.set_xlabel('Tiempo')\n",
    "ax.set_ylabel('Boyas')\n",
    "ax.set_title('Mediciones')\n",
    "plt.gca().set_facecolor(\"white\")\n",
    "ax.grid(True)"
   ],
   "id": "ece1fcda9631de14",
   "outputs": [],
   "execution_count": null
  },
  {
   "metadata": {},
   "cell_type": "markdown",
   "source": "#### Explorar datos",
   "id": "d72f22da16814f72"
  },
  {
   "metadata": {},
   "cell_type": "code",
   "source": [
    "data = xr.open_dataset(f'data/raw/historico/GOW_CFS_Bilbao-Vizcaya.nc')\n",
    "df_var = pd.DataFrame(columns=['Variable', 'Unidades', 'Descripción'])\n",
    "for var in data.variables:\n",
    "    standard_name = data[var].standard_name if hasattr(data[var], 'standard_name') else '****'\n",
    "    units = data[var].units if hasattr(data[var], 'units') else '****'\n",
    "    df_var.loc[len(df_var.index)] = [var, units, standard_name]\n",
    "df_var"
   ],
   "id": "493b2777662d1595",
   "outputs": [],
   "execution_count": null
  }
 ],
 "metadata": {
  "kernelspec": {
   "display_name": "Python 3",
   "language": "python",
   "name": "python3"
  },
  "language_info": {
   "codemirror_mode": {
    "name": "ipython",
    "version": 2
   },
   "file_extension": ".py",
   "mimetype": "text/x-python",
   "name": "python",
   "nbconvert_exporter": "python",
   "pygments_lexer": "ipython2",
   "version": "2.7.6"
  }
 },
 "nbformat": 4,
 "nbformat_minor": 5
}
