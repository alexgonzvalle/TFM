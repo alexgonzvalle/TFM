{
 "cells": [
  {
   "metadata": {},
   "cell_type": "markdown",
   "source": "# Dibujar datos exploratorios",
   "id": "9197b644c03bcd90"
  },
  {
   "metadata": {
    "ExecuteTime": {
     "end_time": "2024-07-15T12:39:30.902447Z",
     "start_time": "2024-07-15T12:39:30.823298Z"
    }
   },
   "cell_type": "code",
   "source": [
    "import pandas as pd\n",
    "from data import get_data\n",
    "from plot import plot_data"
   ],
   "id": "bded3e375e1730a",
   "outputs": [],
   "execution_count": 1
  },
  {
   "metadata": {},
   "cell_type": "markdown",
   "source": "#### Localizacion",
   "id": "b4c98c87768a1453"
  },
  {
   "metadata": {
    "ExecuteTime": {
     "end_time": "2024-07-15T12:39:54.943234Z",
     "start_time": "2024-07-15T12:39:30.903448Z"
    }
   },
   "cell_type": "code",
   "source": [
    "df_boya = pd.read_csv('boyas.csv')\n",
    "for nombre in df_boya['Nombre']:\n",
    "    boya, copernicus, gow = get_data(nombre)\n",
    "    plot_data(boya, copernicus, gow, nombre, f'plot/data_procesed/{nombre}.png')"
   ],
   "id": "4e48a95e519246d9",
   "outputs": [],
   "execution_count": 2
  }
 ],
 "metadata": {
  "kernelspec": {
   "display_name": "Python 3",
   "language": "python",
   "name": "python3"
  },
  "language_info": {
   "codemirror_mode": {
    "name": "ipython",
    "version": 2
   },
   "file_extension": ".py",
   "mimetype": "text/x-python",
   "name": "python",
   "nbconvert_exporter": "python",
   "pygments_lexer": "ipython2",
   "version": "2.7.6"
  }
 },
 "nbformat": 4,
 "nbformat_minor": 5
}
